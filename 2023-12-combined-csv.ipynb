{
 "cells": [
  {
   "cell_type": "markdown",
   "id": "20f7906e",
   "metadata": {},
   "source": [
    "# Goal: plot all vs. diff csv for data visulization and analysis\n",
    "\n",
    "Sketch of problem:\n",
    "\n",
    "* We have info from two sets of csv data: \n",
    "* 1) \"All\" refers to the reads from metagenome that mapped to the certain genome\n",
    "* 2) \"diff\" refers to the aboved mapped reads that did not get assembled\n",
    "\n",
    "* In this combined CVS file, we gathered following info:\n",
    "* - coverage (averaged fromm each base)\n",
    "* - CIGAR value, and calculated aligned percentage\n",
    "* - mapping quality\n",
    "* - R1, R2, and present/absent in the \"diff\" file\n",
    "\n",
    "Questions:\n",
    "* Can we identify the potential reasons for the mapped reads that did not end up with assembly with scatter plot\n"
   ]
  },
  {
   "cell_type": "markdown",
   "id": "8ebc76f5",
   "metadata": {},
   "source": [
    "data from `/home/zyzhao/AL_onemetagenome/subtract/` on farm."
   ]
  },
  {
   "cell_type": "code",
   "execution_count": 16,
   "id": "15ddb65c",
   "metadata": {},
   "outputs": [],
   "source": [
    "import pandas as pd\n",
    "import matplotlib.pyplot as plt\n",
    "import numpy as np\n",
    "\n",
    "from pprint import pprint"
   ]
  },
  {
   "cell_type": "markdown",
   "id": "a0bbf6b0",
   "metadata": {},
   "source": [
    "## loading data"
   ]
  },
  {
   "cell_type": "code",
   "execution_count": 17,
   "id": "7b10f71f",
   "metadata": {},
   "outputs": [
    {
     "data": {
      "text/html": [
       "<div>\n",
       "<style scoped>\n",
       "    .dataframe tbody tr th:only-of-type {\n",
       "        vertical-align: middle;\n",
       "    }\n",
       "\n",
       "    .dataframe tbody tr th {\n",
       "        vertical-align: top;\n",
       "    }\n",
       "\n",
       "    .dataframe thead th {\n",
       "        text-align: right;\n",
       "    }\n",
       "</style>\n",
       "<table border=\"1\" class=\"dataframe\">\n",
       "  <thead>\n",
       "    <tr style=\"text-align: right;\">\n",
       "      <th></th>\n",
       "      <th>all_name1</th>\n",
       "      <th>all_1_cov</th>\n",
       "      <th>all_1_cigar</th>\n",
       "      <th>all_1_pa</th>\n",
       "      <th>all_1_mapq</th>\n",
       "      <th>all_name2</th>\n",
       "      <th>all_2_cov</th>\n",
       "      <th>all_2_cigar</th>\n",
       "      <th>all_2_pa</th>\n",
       "      <th>all_2_mapq</th>\n",
       "      <th>diff_1_present</th>\n",
       "      <th>diff_1_cov</th>\n",
       "      <th>diff_1_cigar</th>\n",
       "      <th>diff_1_mapq</th>\n",
       "      <th>diff_2_present</th>\n",
       "      <th>diff_2_cov</th>\n",
       "      <th>diff_2_cigar</th>\n",
       "      <th>diff_2_mapq</th>\n",
       "    </tr>\n",
       "  </thead>\n",
       "  <tbody>\n",
       "    <tr>\n",
       "      <th>0</th>\n",
       "      <td>ERR257715.2988883/1</td>\n",
       "      <td>160.05</td>\n",
       "      <td>78M1I3M1D19M</td>\n",
       "      <td>0.990099</td>\n",
       "      <td>47.0</td>\n",
       "      <td>ERR257715.2988883/2</td>\n",
       "      <td>173.48</td>\n",
       "      <td>36S65M</td>\n",
       "      <td>0.643564</td>\n",
       "      <td>39.0</td>\n",
       "      <td>diff_1_PRESENT</td>\n",
       "      <td>160.05</td>\n",
       "      <td>78M1I3M1D19M</td>\n",
       "      <td>22.0</td>\n",
       "      <td>diff_2_ABSENT</td>\n",
       "      <td>NaN</td>\n",
       "      <td>NaN</td>\n",
       "      <td>NaN</td>\n",
       "    </tr>\n",
       "    <tr>\n",
       "      <th>1</th>\n",
       "      <td>ERR257715.30823299/1</td>\n",
       "      <td>1129.86</td>\n",
       "      <td>8S93M</td>\n",
       "      <td>0.920792</td>\n",
       "      <td>13.0</td>\n",
       "      <td>ERR257715.30823299/2</td>\n",
       "      <td>NaN</td>\n",
       "      <td>NaN</td>\n",
       "      <td>NaN</td>\n",
       "      <td>NaN</td>\n",
       "      <td>diff_1_PRESENT</td>\n",
       "      <td>1129.86</td>\n",
       "      <td>8S93M</td>\n",
       "      <td>13.0</td>\n",
       "      <td>diff_2_ABSENT</td>\n",
       "      <td>NaN</td>\n",
       "      <td>NaN</td>\n",
       "      <td>NaN</td>\n",
       "    </tr>\n",
       "    <tr>\n",
       "      <th>2</th>\n",
       "      <td>ERR257715.5012085/1</td>\n",
       "      <td>NaN</td>\n",
       "      <td>NaN</td>\n",
       "      <td>NaN</td>\n",
       "      <td>NaN</td>\n",
       "      <td>ERR257715.5012085/2</td>\n",
       "      <td>12.53</td>\n",
       "      <td>26S75M</td>\n",
       "      <td>0.742574</td>\n",
       "      <td>14.0</td>\n",
       "      <td>diff_1_ABSENT</td>\n",
       "      <td>NaN</td>\n",
       "      <td>NaN</td>\n",
       "      <td>NaN</td>\n",
       "      <td>diff_2_PRESENT</td>\n",
       "      <td>12.53</td>\n",
       "      <td>26S75M</td>\n",
       "      <td>14.0</td>\n",
       "    </tr>\n",
       "    <tr>\n",
       "      <th>3</th>\n",
       "      <td>ERR257715.20455746/1</td>\n",
       "      <td>1.19</td>\n",
       "      <td>101M</td>\n",
       "      <td>1.000000</td>\n",
       "      <td>60.0</td>\n",
       "      <td>ERR257715.20455746/2</td>\n",
       "      <td>2.96</td>\n",
       "      <td>101M</td>\n",
       "      <td>1.000000</td>\n",
       "      <td>60.0</td>\n",
       "      <td>diff_1_PRESENT</td>\n",
       "      <td>1.19</td>\n",
       "      <td>101M</td>\n",
       "      <td>60.0</td>\n",
       "      <td>diff_2_PRESENT</td>\n",
       "      <td>2.96</td>\n",
       "      <td>101M</td>\n",
       "      <td>60.0</td>\n",
       "    </tr>\n",
       "    <tr>\n",
       "      <th>4</th>\n",
       "      <td>ERR257715.24105973/1</td>\n",
       "      <td>2.51</td>\n",
       "      <td>101M</td>\n",
       "      <td>1.000000</td>\n",
       "      <td>60.0</td>\n",
       "      <td>ERR257715.24105973/2</td>\n",
       "      <td>1.00</td>\n",
       "      <td>21S80M</td>\n",
       "      <td>0.792079</td>\n",
       "      <td>60.0</td>\n",
       "      <td>diff_1_PRESENT</td>\n",
       "      <td>2.51</td>\n",
       "      <td>101M</td>\n",
       "      <td>60.0</td>\n",
       "      <td>diff_2_PRESENT</td>\n",
       "      <td>1.00</td>\n",
       "      <td>21S80M</td>\n",
       "      <td>60.0</td>\n",
       "    </tr>\n",
       "    <tr>\n",
       "      <th>...</th>\n",
       "      <td>...</td>\n",
       "      <td>...</td>\n",
       "      <td>...</td>\n",
       "      <td>...</td>\n",
       "      <td>...</td>\n",
       "      <td>...</td>\n",
       "      <td>...</td>\n",
       "      <td>...</td>\n",
       "      <td>...</td>\n",
       "      <td>...</td>\n",
       "      <td>...</td>\n",
       "      <td>...</td>\n",
       "      <td>...</td>\n",
       "      <td>...</td>\n",
       "      <td>...</td>\n",
       "      <td>...</td>\n",
       "      <td>...</td>\n",
       "      <td>...</td>\n",
       "    </tr>\n",
       "    <tr>\n",
       "      <th>95</th>\n",
       "      <td>ERR257715.9027025/1</td>\n",
       "      <td>NaN</td>\n",
       "      <td>NaN</td>\n",
       "      <td>NaN</td>\n",
       "      <td>NaN</td>\n",
       "      <td>ERR257715.9027025/2</td>\n",
       "      <td>541.20</td>\n",
       "      <td>101M</td>\n",
       "      <td>1.000000</td>\n",
       "      <td>12.0</td>\n",
       "      <td>diff_1_ABSENT</td>\n",
       "      <td>NaN</td>\n",
       "      <td>NaN</td>\n",
       "      <td>NaN</td>\n",
       "      <td>diff_2_PRESENT</td>\n",
       "      <td>541.20</td>\n",
       "      <td>101M</td>\n",
       "      <td>12.0</td>\n",
       "    </tr>\n",
       "    <tr>\n",
       "      <th>96</th>\n",
       "      <td>ERR257715.19542709/1</td>\n",
       "      <td>1.72</td>\n",
       "      <td>101M</td>\n",
       "      <td>1.000000</td>\n",
       "      <td>60.0</td>\n",
       "      <td>ERR257715.19542709/2</td>\n",
       "      <td>2.22</td>\n",
       "      <td>101M</td>\n",
       "      <td>1.000000</td>\n",
       "      <td>60.0</td>\n",
       "      <td>diff_1_PRESENT</td>\n",
       "      <td>1.72</td>\n",
       "      <td>101M</td>\n",
       "      <td>49.0</td>\n",
       "      <td>diff_2_PRESENT</td>\n",
       "      <td>2.22</td>\n",
       "      <td>101M</td>\n",
       "      <td>60.0</td>\n",
       "    </tr>\n",
       "    <tr>\n",
       "      <th>97</th>\n",
       "      <td>ERR257715.30852747/1</td>\n",
       "      <td>NaN</td>\n",
       "      <td>NaN</td>\n",
       "      <td>NaN</td>\n",
       "      <td>NaN</td>\n",
       "      <td>ERR257715.30852747/2</td>\n",
       "      <td>2.01</td>\n",
       "      <td>101M</td>\n",
       "      <td>1.000000</td>\n",
       "      <td>60.0</td>\n",
       "      <td>diff_1_ABSENT</td>\n",
       "      <td>NaN</td>\n",
       "      <td>NaN</td>\n",
       "      <td>NaN</td>\n",
       "      <td>diff_2_PRESENT</td>\n",
       "      <td>2.01</td>\n",
       "      <td>101M</td>\n",
       "      <td>60.0</td>\n",
       "    </tr>\n",
       "    <tr>\n",
       "      <th>98</th>\n",
       "      <td>ERR257715.24076610/1</td>\n",
       "      <td>1.28</td>\n",
       "      <td>101M</td>\n",
       "      <td>1.000000</td>\n",
       "      <td>60.0</td>\n",
       "      <td>ERR257715.24076610/2</td>\n",
       "      <td>3.41</td>\n",
       "      <td>101M</td>\n",
       "      <td>1.000000</td>\n",
       "      <td>60.0</td>\n",
       "      <td>diff_1_PRESENT</td>\n",
       "      <td>1.28</td>\n",
       "      <td>101M</td>\n",
       "      <td>60.0</td>\n",
       "      <td>diff_2_PRESENT</td>\n",
       "      <td>3.41</td>\n",
       "      <td>101M</td>\n",
       "      <td>60.0</td>\n",
       "    </tr>\n",
       "    <tr>\n",
       "      <th>99</th>\n",
       "      <td>ERR257715.9855105/1</td>\n",
       "      <td>2.82</td>\n",
       "      <td>99M2S</td>\n",
       "      <td>0.980198</td>\n",
       "      <td>60.0</td>\n",
       "      <td>ERR257715.9855105/2</td>\n",
       "      <td>1.52</td>\n",
       "      <td>101M</td>\n",
       "      <td>1.000000</td>\n",
       "      <td>60.0</td>\n",
       "      <td>diff_1_PRESENT</td>\n",
       "      <td>2.82</td>\n",
       "      <td>99M2S</td>\n",
       "      <td>60.0</td>\n",
       "      <td>diff_2_PRESENT</td>\n",
       "      <td>1.52</td>\n",
       "      <td>101M</td>\n",
       "      <td>60.0</td>\n",
       "    </tr>\n",
       "  </tbody>\n",
       "</table>\n",
       "<p>100 rows × 18 columns</p>\n",
       "</div>"
      ],
      "text/plain": [
       "               all_name1  all_1_cov   all_1_cigar  all_1_pa  all_1_mapq  \\\n",
       "0    ERR257715.2988883/1     160.05  78M1I3M1D19M  0.990099        47.0   \n",
       "1   ERR257715.30823299/1    1129.86         8S93M  0.920792        13.0   \n",
       "2    ERR257715.5012085/1        NaN           NaN       NaN         NaN   \n",
       "3   ERR257715.20455746/1       1.19          101M  1.000000        60.0   \n",
       "4   ERR257715.24105973/1       2.51          101M  1.000000        60.0   \n",
       "..                   ...        ...           ...       ...         ...   \n",
       "95   ERR257715.9027025/1        NaN           NaN       NaN         NaN   \n",
       "96  ERR257715.19542709/1       1.72          101M  1.000000        60.0   \n",
       "97  ERR257715.30852747/1        NaN           NaN       NaN         NaN   \n",
       "98  ERR257715.24076610/1       1.28          101M  1.000000        60.0   \n",
       "99   ERR257715.9855105/1       2.82         99M2S  0.980198        60.0   \n",
       "\n",
       "               all_name2  all_2_cov all_2_cigar  all_2_pa  all_2_mapq  \\\n",
       "0    ERR257715.2988883/2     173.48      36S65M  0.643564        39.0   \n",
       "1   ERR257715.30823299/2        NaN         NaN       NaN         NaN   \n",
       "2    ERR257715.5012085/2      12.53      26S75M  0.742574        14.0   \n",
       "3   ERR257715.20455746/2       2.96        101M  1.000000        60.0   \n",
       "4   ERR257715.24105973/2       1.00      21S80M  0.792079        60.0   \n",
       "..                   ...        ...         ...       ...         ...   \n",
       "95   ERR257715.9027025/2     541.20        101M  1.000000        12.0   \n",
       "96  ERR257715.19542709/2       2.22        101M  1.000000        60.0   \n",
       "97  ERR257715.30852747/2       2.01        101M  1.000000        60.0   \n",
       "98  ERR257715.24076610/2       3.41        101M  1.000000        60.0   \n",
       "99   ERR257715.9855105/2       1.52        101M  1.000000        60.0   \n",
       "\n",
       "    diff_1_present  diff_1_cov  diff_1_cigar  diff_1_mapq  diff_2_present  \\\n",
       "0   diff_1_PRESENT      160.05  78M1I3M1D19M         22.0   diff_2_ABSENT   \n",
       "1   diff_1_PRESENT     1129.86         8S93M         13.0   diff_2_ABSENT   \n",
       "2    diff_1_ABSENT         NaN           NaN          NaN  diff_2_PRESENT   \n",
       "3   diff_1_PRESENT        1.19          101M         60.0  diff_2_PRESENT   \n",
       "4   diff_1_PRESENT        2.51          101M         60.0  diff_2_PRESENT   \n",
       "..             ...         ...           ...          ...             ...   \n",
       "95   diff_1_ABSENT         NaN           NaN          NaN  diff_2_PRESENT   \n",
       "96  diff_1_PRESENT        1.72          101M         49.0  diff_2_PRESENT   \n",
       "97   diff_1_ABSENT         NaN           NaN          NaN  diff_2_PRESENT   \n",
       "98  diff_1_PRESENT        1.28          101M         60.0  diff_2_PRESENT   \n",
       "99  diff_1_PRESENT        2.82         99M2S         60.0  diff_2_PRESENT   \n",
       "\n",
       "    diff_2_cov diff_2_cigar  diff_2_mapq  \n",
       "0          NaN          NaN          NaN  \n",
       "1          NaN          NaN          NaN  \n",
       "2        12.53       26S75M         14.0  \n",
       "3         2.96         101M         60.0  \n",
       "4         1.00       21S80M         60.0  \n",
       "..         ...          ...          ...  \n",
       "95      541.20         101M         12.0  \n",
       "96        2.22         101M         60.0  \n",
       "97        2.01         101M         60.0  \n",
       "98        3.41         101M         60.0  \n",
       "99        1.52         101M         60.0  \n",
       "\n",
       "[100 rows x 18 columns]"
      ]
     },
     "execution_count": 17,
     "metadata": {},
     "output_type": "execute_result"
    }
   ],
   "source": [
    "df = pd.read_csv('ERR257715.x.GCF_018619275.1.combined_first 100.csv')\n",
    "df"
   ]
  },
  {
   "cell_type": "code",
   "execution_count": 42,
   "id": "3d9a170b",
   "metadata": {
    "scrolled": true
   },
   "outputs": [
    {
     "name": "stdout",
     "output_type": "stream",
     "text": [
      "all_1_pa: [0.99009901 0.92079208        nan 1.         1.         0.95049505\n",
      " 1.         1.                nan 1.                nan 1.\n",
      " 1.         0.86138614 1.         1.         0.43564356 0.78217822\n",
      "        nan 1.         0.99009901 0.42574257 1.         0.38613861\n",
      "        nan 1.         0.77227723        nan 1.         1.\n",
      " 1.         1.                nan 1.         1.         1.\n",
      " 0.74257426        nan 0.91089109 1.         1.         1.\n",
      "        nan 1.         0.91089109 1.         1.         1.\n",
      "        nan 1.         1.         1.         0.33663366 1.\n",
      " 0.98019802 0.78217822 0.49504951 1.                nan 1.\n",
      " 1.         0.98019802 1.         1.         1.         1.\n",
      " 1.         1.         1.         1.         1.         0.91089109\n",
      "        nan 1.         1.         1.                nan        nan\n",
      " 0.55445545 1.                nan 0.97029703 1.         1.\n",
      " 1.         1.         1.         1.         1.         1.\n",
      "        nan        nan 0.45544554 1.         1.                nan\n",
      " 1.                nan 1.         0.98019802]\n"
     ]
    }
   ],
   "source": [
    "all_1_pa_column = df['all_1_pa']\n",
    "all_1_mq_column = df['all_1_mapq']\n",
    "all_2_pa_column = df['all_2_pa']\n",
    "all_2_mq_column = df['all_2_mapq']\n",
    "print(\"all_1_pa:\", all_1_pa_column.values)"
   ]
  },
  {
   "cell_type": "code",
   "execution_count": 49,
   "id": "9d730578",
   "metadata": {
    "scrolled": true
   },
   "outputs": [
    {
     "data": {
      "image/png": "[encoded data removed]",
      "text/plain": [
       "<Figure size 432x288 with 1 Axes>"
      ]
     },
     "metadata": {
      "needs_background": "light"
     },
     "output_type": "display_data"
    }
   ],
   "source": [
    "df['color'] = df['diff_1_present'].map({'diff_1_PRESENT': 'Red', 'diff_1_ABSENT': 'blue'})\n",
    "\n",
    "df.plot.scatter(x='all_1_pa', y='all_1_mapq', c=df['color'], title='pa vs mq Scatter Plot', xlabel='percentage of aligned', ylabel='mapping quality')\n",
    "plt.legend(labels=['Present', 'Absent'])\n",
    "plt.show()\n"
   ]
  },
  {
   "cell_type": "code",
   "execution_count": 53,
   "id": "99ee4673",
   "metadata": {},
   "outputs": [
    {
     "data": {
      "image/png": "[encoded data removed]",
      "text/plain": [
       "<Figure size 432x288 with 1 Axes>"
      ]
     },
     "metadata": {
      "needs_background": "light"
     },
     "output_type": "display_data"
    }
   ],
   "source": [
    "df['color'] = df['diff_1_present'].map({'diff_1_PRESENT': 'Red', 'diff_1_ABSENT': 'blue'})\n",
    "legend_labels = df['diff_1_present'].unique()\n",
    "df.plot.scatter(x='all_1_pa', y='all_1_mapq', c=df['color'], title='pa vs mq of All Mapped Reads', xlabel='percentage of aligned', ylabel='mapping quality')\n",
    "plt.legend(labels=legend_labels)\n",
    "plt.show()\n"
   ]
  },
  {
   "cell_type": "code",
   "execution_count": 51,
   "id": "6959fa10",
   "metadata": {},
   "outputs": [
    {
     "data": {
      "image/png": "[encoded data removed]",
      "text/plain": [
       "<Figure size 432x288 with 1 Axes>"
      ]
     },
     "metadata": {
      "needs_background": "light"
     },
     "output_type": "display_data"
    }
   ],
   "source": [
    "df['color'] = df['diff_2_present'].map({'diff_2_PRESENT': 'Red', 'diff_2_ABSENT': 'blue'})\n",
    "\n",
    "df.plot.scatter(x='all_2_pa', y='all_2_mapq', c=df['color'], title='pa vs mq Scatter Plot', xlabel='percentage of aligned', ylabel='mapping quality')\n",
    "plt.legend(labels=['Present', 'Absent'])\n",
    "plt.show()"
   ]
  },
  {
   "cell_type": "code",
   "execution_count": 39,
   "id": "1c081f8d",
   "metadata": {},
   "outputs": [
    {
     "data": {
      "image/png": "[encoded data removed]",
      "text/plain": [
       "<Figure size 432x288 with 1 Axes>"
      ]
     },
     "metadata": {
      "needs_background": "light"
     },
     "output_type": "display_data"
    }
   ],
   "source": [
    "df.plot.scatter(x='all_1_pa', y='all_1_mapq', title='pa vs mq Scatter Plot', xlabel='percentage of aligned', ylabel='mapping quality')\n",
    "plt.scatter(all_2_pa_column, all_2_mq_column, color='red', label='R2')\n",
    "plt.legend()\n",
    "plt.show()"
   ]
  },
  {
   "cell_type": "code",
   "execution_count": 38,
   "id": "dd098056",
   "metadata": {},
   "outputs": [
    {
     "data": {
      "image/png": "[encoded data removed]",
      "text/plain": [
       "<Figure size 432x288 with 1 Axes>"
      ]
     },
     "metadata": {
      "needs_background": "light"
     },
     "output_type": "display_data"
    },
    {
     "data": {
      "image/png": "[encoded data removed]",
      "text/plain": [
       "<Figure size 432x288 with 1 Axes>"
      ]
     },
     "metadata": {
      "needs_background": "light"
     },
     "output_type": "display_data"
    },
    {
     "name": "stderr",
     "output_type": "stream",
     "text": [
      "No handles with labels found to put in legend.\n"
     ]
    },
    {
     "data": {
      "text/plain": [
       "<matplotlib.legend.Legend at 0x7fc59d3e2460>"
      ]
     },
     "execution_count": 38,
     "metadata": {},
     "output_type": "execute_result"
    },
    {
     "data": {
      "image/png": "[encoded data removed]",
      "text/plain": [
       "<Figure size 432x288 with 1 Axes>"
      ]
     },
     "metadata": {
      "needs_background": "light"
     },
     "output_type": "display_data"
    }
   ],
   "source": [
    "df.plot.scatter(x='all_1_pa', y='all_1_mapq', title='pa vs mq Scatter Plot', xlabel='percentage of aligned', ylabel='mapping quality')\n",
    "df.plot.scatter(x='all_2_pa', y='all_2_mapq', title='pa vs mq Scatter Plot', color='red', xlabel='percentage of aligned', ylabel='mapping quality')\n",
    "plt.show()\n",
    "plt.legend()"
   ]
  },
  {
   "cell_type": "code",
   "execution_count": 31,
   "id": "1baa00e2",
   "metadata": {},
   "outputs": [],
   "source": [
    "all_2_pa_column = df['all_2_pa']\n",
    "all_2_mq_column = df['all_2_mapq']"
   ]
  },
  {
   "cell_type": "code",
   "execution_count": 35,
   "id": "e6a5a63e",
   "metadata": {},
   "outputs": [
    {
     "data": {
      "image/png": "[encoded data removed]",
      "text/plain": [
       "<Figure size 432x288 with 1 Axes>"
      ]
     },
     "metadata": {
      "needs_background": "light"
     },
     "output_type": "display_data"
    }
   ],
   "source": [
    "plt.scatter(all_2_pa_column, all_2_mq_column, color='red', label='R2')\n",
    "plt.legend()\n",
    "plt.show()"
   ]
  },
  {
   "cell_type": "code",
   "execution_count": null,
   "id": "0071017b",
   "metadata": {},
   "outputs": [],
   "source": []
  }
 ],
 "metadata": {
  "kernelspec": {
   "display_name": "Python 3 (ipykernel)",
   "language": "python",
   "name": "python3"
  },
  "language_info": {
   "codemirror_mode": {
    "name": "ipython",
    "version": 3
   },
   "file_extension": ".py",
   "mimetype": "text/x-python",
   "name": "python",
   "nbconvert_exporter": "python",
   "pygments_lexer": "ipython3",
   "version": "3.9.7"
  }
 },
 "nbformat": 4,
 "nbformat_minor": 5
}
